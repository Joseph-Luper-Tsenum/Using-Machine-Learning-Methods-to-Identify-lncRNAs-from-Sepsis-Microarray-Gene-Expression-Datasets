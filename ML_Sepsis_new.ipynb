{
 "cells": [
  {
   "cell_type": "code",
   "execution_count": 1,
   "metadata": {},
   "outputs": [],
   "source": [
    "import os\n",
    "import warnings\n",
    "import re\n",
    "warnings.filterwarnings(\"ignore\")\n",
    "\n",
    "from tqdm.notebook import tqdm\n",
    "\n",
    "import matplotlib as mpl\n",
    "import matplotlib.pyplot as plt\n",
    "\n",
    "import numpy as np\n",
    "import math\n",
    "import pandas as pd\n",
    "import sklearn\n",
    "import scipy as sc\n",
    "\n",
    "import rpy2.rinterface\n",
    "%load_ext rpy2.ipython\n",
    "\n",
    "from sklearn.metrics import accuracy_score, f1_score, roc_auc_score\n",
    "\n",
    "from sklearn.utils import resample\n",
    "from sklearn.preprocessing import StandardScaler, LabelEncoder\n",
    "from sklearn.model_selection import GridSearchCV, train_test_split\n",
    "from sklearn.metrics import classification_report, roc_auc_score\n",
    "from sklearn.linear_model import LogisticRegression, RidgeClassifier\n",
    "from sklearn.tree import DecisionTreeClassifier\n",
    "from sklearn.ensemble import RandomForestClassifier\n",
    "from sklearn.decomposition import PCA\n",
    "from sklearn.svm import SVC\n",
    "from sklearn.feature_selection import mutual_info_classif, f_classif, VarianceThreshold, SelectKBest\n",
    "\n",
    "import xgboost as xgb\n",
    "\n",
    "from IPython.display import display"
   ]
  },
  {
   "cell_type": "markdown",
   "metadata": {},
   "source": [
    "## Setting some parameters, loading data"
   ]
  },
  {
   "cell_type": "code",
   "execution_count": 35,
   "metadata": {},
   "outputs": [
    {
     "name": "stdout",
     "output_type": "stream",
     "text": [
      "Input data:\n"
     ]
    },
    {
     "data": {
      "text/html": [
       "<div>\n",
       "<style scoped>\n",
       "    .dataframe tbody tr th:only-of-type {\n",
       "        vertical-align: middle;\n",
       "    }\n",
       "\n",
       "    .dataframe tbody tr th {\n",
       "        vertical-align: top;\n",
       "    }\n",
       "\n",
       "    .dataframe thead th {\n",
       "        text-align: right;\n",
       "    }\n",
       "</style>\n",
       "<table border=\"1\" class=\"dataframe\">\n",
       "  <thead>\n",
       "    <tr style=\"text-align: right;\">\n",
       "      <th></th>\n",
       "      <th>A1BG-AS1</th>\n",
       "      <th>A2M-AS1</th>\n",
       "      <th>AA06</th>\n",
       "      <th>ACTA2-AS1</th>\n",
       "      <th>ACVR2B-AS1</th>\n",
       "      <th>ADAMTS9-AS2</th>\n",
       "      <th>ADARB2-AS1</th>\n",
       "      <th>ADD3-AS1</th>\n",
       "      <th>ADIRF-AS1</th>\n",
       "      <th>ADORA2A-AS1</th>\n",
       "      <th>...</th>\n",
       "      <th>ZNF32-AS3</th>\n",
       "      <th>ZNF503-AS1</th>\n",
       "      <th>ZNF503-AS2</th>\n",
       "      <th>ZNF571-AS1</th>\n",
       "      <th>ZNF667-AS1</th>\n",
       "      <th>ZNF674-AS1</th>\n",
       "      <th>ZNF790-AS1</th>\n",
       "      <th>ZRANB2-AS1</th>\n",
       "      <th>ZSCAN16-AS1</th>\n",
       "      <th>Label</th>\n",
       "    </tr>\n",
       "  </thead>\n",
       "  <tbody>\n",
       "    <tr>\n",
       "      <th>0</th>\n",
       "      <td>0.986777</td>\n",
       "      <td>0.918804</td>\n",
       "      <td>1.022330</td>\n",
       "      <td>0.942865</td>\n",
       "      <td>1.056324</td>\n",
       "      <td>5.583921</td>\n",
       "      <td>1.022020</td>\n",
       "      <td>3.071460</td>\n",
       "      <td>0.977870</td>\n",
       "      <td>2.246206</td>\n",
       "      <td>...</td>\n",
       "      <td>2.048482</td>\n",
       "      <td>1.213379</td>\n",
       "      <td>4.137023</td>\n",
       "      <td>1.047637</td>\n",
       "      <td>0.988586</td>\n",
       "      <td>1.035950</td>\n",
       "      <td>2.094243</td>\n",
       "      <td>1.021524</td>\n",
       "      <td>2.982927</td>\n",
       "      <td>C</td>\n",
       "    </tr>\n",
       "    <tr>\n",
       "      <th>1</th>\n",
       "      <td>0.964514</td>\n",
       "      <td>0.965923</td>\n",
       "      <td>0.979102</td>\n",
       "      <td>0.971376</td>\n",
       "      <td>0.983233</td>\n",
       "      <td>4.984950</td>\n",
       "      <td>1.028229</td>\n",
       "      <td>3.113540</td>\n",
       "      <td>0.994136</td>\n",
       "      <td>1.939292</td>\n",
       "      <td>...</td>\n",
       "      <td>1.897929</td>\n",
       "      <td>0.999018</td>\n",
       "      <td>3.758432</td>\n",
       "      <td>0.943754</td>\n",
       "      <td>1.009126</td>\n",
       "      <td>1.030797</td>\n",
       "      <td>1.837639</td>\n",
       "      <td>0.980782</td>\n",
       "      <td>3.017070</td>\n",
       "      <td>C</td>\n",
       "    </tr>\n",
       "    <tr>\n",
       "      <th>2</th>\n",
       "      <td>1.040910</td>\n",
       "      <td>1.095108</td>\n",
       "      <td>1.028325</td>\n",
       "      <td>0.943246</td>\n",
       "      <td>1.017799</td>\n",
       "      <td>5.362886</td>\n",
       "      <td>0.965249</td>\n",
       "      <td>2.985929</td>\n",
       "      <td>1.073442</td>\n",
       "      <td>1.973732</td>\n",
       "      <td>...</td>\n",
       "      <td>2.126883</td>\n",
       "      <td>0.834130</td>\n",
       "      <td>3.754209</td>\n",
       "      <td>1.028730</td>\n",
       "      <td>1.173873</td>\n",
       "      <td>0.920503</td>\n",
       "      <td>2.044482</td>\n",
       "      <td>0.992441</td>\n",
       "      <td>3.021430</td>\n",
       "      <td>C</td>\n",
       "    </tr>\n",
       "    <tr>\n",
       "      <th>3</th>\n",
       "      <td>0.975662</td>\n",
       "      <td>0.971483</td>\n",
       "      <td>1.023094</td>\n",
       "      <td>1.005302</td>\n",
       "      <td>1.021771</td>\n",
       "      <td>4.489597</td>\n",
       "      <td>0.993367</td>\n",
       "      <td>3.159738</td>\n",
       "      <td>0.963009</td>\n",
       "      <td>1.927878</td>\n",
       "      <td>...</td>\n",
       "      <td>1.759135</td>\n",
       "      <td>0.991861</td>\n",
       "      <td>4.117718</td>\n",
       "      <td>0.927741</td>\n",
       "      <td>1.062716</td>\n",
       "      <td>1.057921</td>\n",
       "      <td>1.915265</td>\n",
       "      <td>1.011904</td>\n",
       "      <td>3.132396</td>\n",
       "      <td>C</td>\n",
       "    </tr>\n",
       "    <tr>\n",
       "      <th>4</th>\n",
       "      <td>0.990206</td>\n",
       "      <td>0.996527</td>\n",
       "      <td>0.961097</td>\n",
       "      <td>0.850262</td>\n",
       "      <td>0.969824</td>\n",
       "      <td>5.467835</td>\n",
       "      <td>1.043923</td>\n",
       "      <td>3.098369</td>\n",
       "      <td>0.938168</td>\n",
       "      <td>2.134826</td>\n",
       "      <td>...</td>\n",
       "      <td>2.190440</td>\n",
       "      <td>1.029302</td>\n",
       "      <td>3.957010</td>\n",
       "      <td>1.054379</td>\n",
       "      <td>0.990264</td>\n",
       "      <td>0.954192</td>\n",
       "      <td>1.722314</td>\n",
       "      <td>1.019540</td>\n",
       "      <td>3.148515</td>\n",
       "      <td>C</td>\n",
       "    </tr>\n",
       "  </tbody>\n",
       "</table>\n",
       "<p>5 rows × 1085 columns</p>\n",
       "</div>"
      ],
      "text/plain": [
       "   A1BG-AS1   A2M-AS1      AA06  ACTA2-AS1  ACVR2B-AS1  ADAMTS9-AS2  \\\n",
       "0  0.986777  0.918804  1.022330   0.942865    1.056324     5.583921   \n",
       "1  0.964514  0.965923  0.979102   0.971376    0.983233     4.984950   \n",
       "2  1.040910  1.095108  1.028325   0.943246    1.017799     5.362886   \n",
       "3  0.975662  0.971483  1.023094   1.005302    1.021771     4.489597   \n",
       "4  0.990206  0.996527  0.961097   0.850262    0.969824     5.467835   \n",
       "\n",
       "   ADARB2-AS1  ADD3-AS1  ADIRF-AS1  ADORA2A-AS1  ...  ZNF32-AS3  ZNF503-AS1  \\\n",
       "0    1.022020  3.071460   0.977870     2.246206  ...   2.048482    1.213379   \n",
       "1    1.028229  3.113540   0.994136     1.939292  ...   1.897929    0.999018   \n",
       "2    0.965249  2.985929   1.073442     1.973732  ...   2.126883    0.834130   \n",
       "3    0.993367  3.159738   0.963009     1.927878  ...   1.759135    0.991861   \n",
       "4    1.043923  3.098369   0.938168     2.134826  ...   2.190440    1.029302   \n",
       "\n",
       "   ZNF503-AS2  ZNF571-AS1  ZNF667-AS1  ZNF674-AS1  ZNF790-AS1  ZRANB2-AS1  \\\n",
       "0    4.137023    1.047637    0.988586    1.035950    2.094243    1.021524   \n",
       "1    3.758432    0.943754    1.009126    1.030797    1.837639    0.980782   \n",
       "2    3.754209    1.028730    1.173873    0.920503    2.044482    0.992441   \n",
       "3    4.117718    0.927741    1.062716    1.057921    1.915265    1.011904   \n",
       "4    3.957010    1.054379    0.990264    0.954192    1.722314    1.019540   \n",
       "\n",
       "   ZSCAN16-AS1  Label  \n",
       "0     2.982927      C  \n",
       "1     3.017070      C  \n",
       "2     3.021430      C  \n",
       "3     3.132396      C  \n",
       "4     3.148515      C  \n",
       "\n",
       "[5 rows x 1085 columns]"
      ]
     },
     "metadata": {},
     "output_type": "display_data"
    },
    {
     "name": "stdout",
     "output_type": "stream",
     "text": [
      "\n",
      "Class distribution:\n"
     ]
    },
    {
     "data": {
      "text/plain": [
       "H48       511\n",
       "C         511\n",
       "H0        511\n",
       "H24       511\n",
       "PS_H24    511\n",
       "Name: Label, dtype: int64"
      ]
     },
     "metadata": {},
     "output_type": "display_data"
    },
    {
     "name": "stdout",
     "output_type": "stream",
     "text": [
      "\n",
      "Gene scores:\n"
     ]
    },
    {
     "data": {
      "text/html": [
       "<div>\n",
       "<style scoped>\n",
       "    .dataframe tbody tr th:only-of-type {\n",
       "        vertical-align: middle;\n",
       "    }\n",
       "\n",
       "    .dataframe tbody tr th {\n",
       "        vertical-align: top;\n",
       "    }\n",
       "\n",
       "    .dataframe thead th {\n",
       "        text-align: right;\n",
       "    }\n",
       "</style>\n",
       "<table border=\"1\" class=\"dataframe\">\n",
       "  <thead>\n",
       "    <tr style=\"text-align: right;\">\n",
       "      <th></th>\n",
       "      <th>feature</th>\n",
       "      <th>score</th>\n",
       "    </tr>\n",
       "  </thead>\n",
       "  <tbody>\n",
       "    <tr>\n",
       "      <th>0</th>\n",
       "      <td>ACTA2-AS1</td>\n",
       "      <td>1.0</td>\n",
       "    </tr>\n",
       "    <tr>\n",
       "      <th>1</th>\n",
       "      <td>ADIRF-AS1</td>\n",
       "      <td>1.0</td>\n",
       "    </tr>\n",
       "    <tr>\n",
       "      <th>2</th>\n",
       "      <td>ALDH1L1-AS2</td>\n",
       "      <td>1.0</td>\n",
       "    </tr>\n",
       "    <tr>\n",
       "      <th>3</th>\n",
       "      <td>ALMS1-IT1</td>\n",
       "      <td>1.0</td>\n",
       "    </tr>\n",
       "    <tr>\n",
       "      <th>4</th>\n",
       "      <td>ARHGAP5-AS1</td>\n",
       "      <td>1.0</td>\n",
       "    </tr>\n",
       "  </tbody>\n",
       "</table>\n",
       "</div>"
      ],
      "text/plain": [
       "       feature  score\n",
       "0    ACTA2-AS1    1.0\n",
       "1    ADIRF-AS1    1.0\n",
       "2  ALDH1L1-AS2    1.0\n",
       "3    ALMS1-IT1    1.0\n",
       "4  ARHGAP5-AS1    1.0"
      ]
     },
     "execution_count": 35,
     "metadata": {},
     "output_type": "execute_result"
    }
   ],
   "source": [
    "# Setting up the directory with the data\n",
    "_DATA_FOLDER = 'lncRNA_affy_data_new'\n",
    "\n",
    "# Reading the data\n",
    "raw_df = pd.read_csv(f'{_DATA_FOLDER}/dataBalanced.csv')\n",
    "gene_scores = pd.read_csv(f'{_DATA_FOLDER}/selected_variables.csv')\n",
    "\n",
    "# Separating features and target\n",
    "df = raw_df.iloc[:, :-1]\n",
    "target = raw_df.iloc[:, -1]\n",
    "\n",
    "# Saving the labels\n",
    "labels = target.unique()\n",
    "\n",
    "# Having a pick at the data\n",
    "print('Input data:')\n",
    "display(raw_df.head())\n",
    "print()\n",
    "\n",
    "# Showing how many classes the data has\n",
    "print('Class distribution:')\n",
    "display(raw_df['Label'].value_counts())\n",
    "print()\n",
    "\n",
    "# Having a pick at the gene scores\n",
    "print('Gene scores:')\n",
    "gene_scores.head()"
   ]
  },
  {
   "cell_type": "markdown",
   "metadata": {},
   "source": [
    "## Exploratory data analysis\n",
    "\n",
    "First we should look at the data distribution of the gene expression."
   ]
  },
  {
   "cell_type": "code",
   "execution_count": 39,
   "metadata": {},
   "outputs": [
    {
     "data": {
      "image/png": "[encoded data removed]",
      "text/plain": [
       "<Figure size 1080x864 with 1 Axes>"
      ]
     },
     "metadata": {
      "needs_background": "light"
     },
     "output_type": "display_data"
    }
   ],
   "source": [
    "f, ax = plt.subplots(figsize=(15, 12))\n",
    "\n",
    "for label in labels:\n",
    "    vals = df.loc[target[target == label].index].values.reshape(-1)\n",
    "    plt.hist(vals, label=label, alpha=0.1, bins='auto', histtype='stepfilled')\n",
    "    \n",
    "plt.yscale('log')\n",
    "plt.xlim([0, 20])\n",
    "plt.legend()\n",
    "plt.title('Expression values distribution among samples');"
   ]
  },
  {
   "cell_type": "markdown",
   "metadata": {},
   "source": [
    "We can observe that gene expression values are well mixed between classes and thus there seems to be no *batch effect*. \n",
    "\n",
    "Let us pick only the genes that have sufficient variation in the data."
   ]
  },
  {
   "cell_type": "code",
   "execution_count": 43,
   "metadata": {},
   "outputs": [
    {
     "name": "stdout",
     "output_type": "stream",
     "text": [
      "After filtering out genes with less or equal than 5.0 % of variance the number of genes changed: 1084 -> 321..\n"
     ]
    }
   ],
   "source": [
    "# Selecting the variance threshold (genes with lesser or equal variance will be removed)\n",
    "_VAR_THRESH = 0.05\n",
    "\n",
    "# Fitting the object\n",
    "var_sel = VarianceThreshold(_VAR_THRESH).fit(df)\n",
    "\n",
    "# Creating updated version of df\n",
    "new_df = pd.DataFrame(var_sel.transform(df), index=df.index, columns=df.columns[var_sel.get_support(indices=True)])\n",
    "\n",
    "print(f'After filtering out genes with less or equal than {_VAR_THRESH * 100:.1f} % of variance the number of genes changed: {df.shape[1]} -> {new_df.shape[1]}..')"
   ]
  },
  {
   "cell_type": "markdown",
   "metadata": {},
   "source": [
    "## Machine Learning\n",
    "### Preparing data\n",
    "\n",
    "Now we are ready for the ML pipeline. Here we have a multi-class problem, and thus we will use the appropriate tools. [Here](https://scikit-learn.org/stable/modules/multiclass.html) you can find a nice description of all available algorithms.."
   ]
  },
  {
   "cell_type": "code",
   "execution_count": 46,
   "metadata": {},
   "outputs": [
    {
     "name": "stdout",
     "output_type": "stream",
     "text": [
      "The size of the train set: (2299, 321)\n",
      "The size of the test set: (256, 321)\n"
     ]
    }
   ],
   "source": [
    "# Setting some hyperparams\n",
    "_DATA_SIZE = len(new_df)\n",
    "_TRAIN_PERCENTAGE = 0.9\n",
    "_TEST_PERCENTAGE = 1 - _TRAIN_PERCENTAGE\n",
    "_TRAIN_SIZE = int(_TRAIN_PERCENTAGE * _DATA_SIZE)\n",
    "_TEST_SIZE = int(_TEST_PERCENTAGE * _DATA_SIZE)\n",
    "_SEED = 42\n",
    "\n",
    "# Scaling features\n",
    "scaler = StandardScaler()\n",
    "scaler.fit(new_df.iloc[:_TRAIN_SIZE, :])\n",
    "data = scaler.transform(new_df)\n",
    "data_df = pd.DataFrame(data, index=new_df.index, columns=new_df.columns)\n",
    "\n",
    "# Splitting the data into train and test, scaling the data\n",
    "X_train, X_test, y_train, y_test = train_test_split(data, target, \n",
    "                                                    test_size=_TEST_PERCENTAGE,\n",
    "                                                    random_state=_SEED)\n",
    "\n",
    "accuracy_metrics = {}\n",
    "f1_score_metrics = {}\n",
    "\n",
    "print(f'The size of the train set: {X_train.shape}')\n",
    "print(f'The size of the test set: {X_test.shape}')"
   ]
  },
  {
   "cell_type": "markdown",
   "metadata": {},
   "source": [
    "### Logistic regression"
   ]
  },
  {
   "cell_type": "markdown",
   "metadata": {},
   "source": [
    "Now we are ready to train a simple logistic regression. Here as it is multi-class problem the output of the model will be `multinomial`, which means that it does predict multiple classes."
   ]
  },
  {
   "cell_type": "code",
   "execution_count": 65,
   "metadata": {},
   "outputs": [
    {
     "name": "stdout",
     "output_type": "stream",
     "text": [
      "LOGISTIC REGRESSION\n",
      "Train:\n",
      "              precision    recall  f1-score   support\n",
      "\n",
      "           C       1.00      1.00      1.00       459\n",
      "          H0       1.00      1.00      1.00       467\n",
      "         H24       1.00      1.00      1.00       450\n",
      "         H48       1.00      1.00      1.00       460\n",
      "      PS_H24       1.00      1.00      1.00       463\n",
      "\n",
      "    accuracy                           1.00      2299\n",
      "   macro avg       1.00      1.00      1.00      2299\n",
      "weighted avg       1.00      1.00      1.00      2299\n",
      "\n",
      "\n",
      "Test:\n",
      "              precision    recall  f1-score   support\n",
      "\n",
      "           C       0.98      1.00      0.99        52\n",
      "          H0       0.95      0.84      0.89        44\n",
      "         H24       0.94      1.00      0.97        61\n",
      "         H48       0.94      0.94      0.94        51\n",
      "      PS_H24       1.00      1.00      1.00        48\n",
      "\n",
      "    accuracy                           0.96       256\n",
      "   macro avg       0.96      0.96      0.96       256\n",
      "weighted avg       0.96      0.96      0.96       256\n",
      "\n"
     ]
    }
   ],
   "source": [
    "# Training logistic regression\n",
    "log_reg = LogisticRegression(multi_class='multinomial', random_state=_SEED).fit(X_train, y_train)\n",
    "\n",
    "# Computing predictions and evaluating the model\n",
    "y_train_pred = log_reg.predict(X_train)\n",
    "y_test_pred = log_reg.predict(X_test)\n",
    "\n",
    "accuracy_metrics['Logistic Regression'] = accuracy_score(y_test, y_test_pred)\n",
    "f1_score_metrics['Logistic Regression'] = f1_score(y_test, y_test_pred, average='macro')\n",
    "\n",
    "print('LOGISTIC REGRESSION')\n",
    "print('Train:')\n",
    "print(classification_report(y_train, y_train_pred))\n",
    "print('\\nTest:')\n",
    "print(classification_report(y_test, y_test_pred))"
   ]
  },
  {
   "cell_type": "markdown",
   "metadata": {},
   "source": [
    "We have succeeded, and the model seems to capture the differences in groups and achieves good accuracy! Now let us print the most predictive lncRNAs (with highest/lowest coefficients).."
   ]
  },
  {
   "cell_type": "code",
   "execution_count": 67,
   "metadata": {},
   "outputs": [
    {
     "name": "stdout",
     "output_type": "stream",
     "text": [
      "Top lncRNAs in terms of predictive power:\n",
      "Highest coefficients -> MCHR2-AS1, PHF1, MDS2, LINC00877, CABIN1\n",
      "Lowest coefficients -> RAMP2-AS1, WDFY3-AS2, BCRP3, LINC01186, LINC01352\n"
     ]
    }
   ],
   "source": [
    "lowest_5, highest_5 = data_df.columns[np.argsort(log_reg.coef_[0])[:5]], \\\n",
    "    data_df.columns[np.argsort(log_reg.coef_[0])[-5:]]\n",
    "\n",
    "print('Top lncRNAs in terms of predictive power:')\n",
    "print(f'Highest coefficients -> {\", \".join(highest_5)}')\n",
    "print(f'Lowest coefficients -> {\", \".join(lowest_5)}')"
   ]
  },
  {
   "cell_type": "markdown",
   "metadata": {},
   "source": [
    "### SVM\n",
    "\n",
    "Next we will use SVM with RBF kernel. Here we cannot use `multinomial`, by default the only implemented version of SVM for multi-class problems is OvO or One-vs-One technique. "
   ]
  },
  {
   "cell_type": "code",
   "execution_count": 69,
   "metadata": {},
   "outputs": [
    {
     "name": "stdout",
     "output_type": "stream",
     "text": [
      "LOGISTIC REGRESSION\n",
      "Train:\n",
      "              precision    recall  f1-score   support\n",
      "\n",
      "           C       0.99      1.00      1.00       459\n",
      "          H0       1.00      0.93      0.96       467\n",
      "         H24       0.86      1.00      0.93       450\n",
      "         H48       1.00      0.90      0.94       460\n",
      "      PS_H24       1.00      1.00      1.00       463\n",
      "\n",
      "    accuracy                           0.97      2299\n",
      "   macro avg       0.97      0.97      0.97      2299\n",
      "weighted avg       0.97      0.97      0.97      2299\n",
      "\n",
      "\n",
      "Test:\n",
      "              precision    recall  f1-score   support\n",
      "\n",
      "           C       0.96      1.00      0.98        52\n",
      "          H0       0.91      0.89      0.90        44\n",
      "         H24       0.86      1.00      0.92        61\n",
      "         H48       0.97      0.76      0.86        51\n",
      "      PS_H24       1.00      1.00      1.00        48\n",
      "\n",
      "    accuracy                           0.93       256\n",
      "   macro avg       0.94      0.93      0.93       256\n",
      "weighted avg       0.94      0.93      0.93       256\n",
      "\n"
     ]
    }
   ],
   "source": [
    "# Training decision trees\n",
    "rbf_svm = SVC(random_state=_SEED).fit(X_train, y_train)\n",
    "\n",
    "# Computing predictions and evaluating the model\n",
    "y_train_pred = rbf_svm.predict(X_train)\n",
    "y_test_pred = rbf_svm.predict(X_test)\n",
    "\n",
    "accuracy_metrics['SVM'] = accuracy_score(y_test, y_test_pred)\n",
    "f1_score_metrics['SVM'] = f1_score(y_test, y_test_pred, average='macro')\n",
    "\n",
    "print('LOGISTIC REGRESSION')\n",
    "print('Train:')\n",
    "print(classification_report(y_train, y_train_pred))\n",
    "print('\\nTest:')\n",
    "print(classification_report(y_test, y_test_pred))"
   ]
  },
  {
   "cell_type": "markdown",
   "metadata": {},
   "source": [
    "### Decision tree\n",
    "\n",
    "Decision trees are inherently multi-class."
   ]
  },
  {
   "cell_type": "code",
   "execution_count": 72,
   "metadata": {},
   "outputs": [
    {
     "name": "stdout",
     "output_type": "stream",
     "text": [
      "LOGISTIC REGRESSION\n",
      "Train:\n",
      "              precision    recall  f1-score   support\n",
      "\n",
      "           C       1.00      1.00      1.00       459\n",
      "          H0       1.00      1.00      1.00       467\n",
      "         H24       1.00      1.00      1.00       450\n",
      "         H48       1.00      1.00      1.00       460\n",
      "      PS_H24       1.00      1.00      1.00       463\n",
      "\n",
      "    accuracy                           1.00      2299\n",
      "   macro avg       1.00      1.00      1.00      2299\n",
      "weighted avg       1.00      1.00      1.00      2299\n",
      "\n",
      "\n",
      "Test:\n",
      "              precision    recall  f1-score   support\n",
      "\n",
      "           C       1.00      0.98      0.99        52\n",
      "          H0       0.80      0.75      0.78        44\n",
      "         H24       0.94      0.95      0.94        61\n",
      "         H48       0.76      0.80      0.78        51\n",
      "      PS_H24       0.98      0.98      0.98        48\n",
      "\n",
      "    accuracy                           0.90       256\n",
      "   macro avg       0.90      0.89      0.89       256\n",
      "weighted avg       0.90      0.90      0.90       256\n",
      "\n"
     ]
    }
   ],
   "source": [
    "# Training decision trees\n",
    "dec_tree = DecisionTreeClassifier(random_state=_SEED).fit(X_train, y_train)\n",
    "\n",
    "# Computing predictions and evaluating the model\n",
    "y_train_pred = dec_tree.predict(X_train)\n",
    "y_test_pred = dec_tree.predict(X_test)\n",
    "\n",
    "accuracy_metrics['Decision Tree'] = accuracy_score(y_test, y_test_pred)\n",
    "f1_score_metrics['Decision Tree'] = f1_score(y_test, y_test_pred, average='macro')\n",
    "\n",
    "print('LOGISTIC REGRESSION')\n",
    "print('Train:')\n",
    "print(classification_report(y_train, y_train_pred))\n",
    "print('\\nTest:')\n",
    "print(classification_report(y_test, y_test_pred))"
   ]
  },
  {
   "cell_type": "markdown",
   "metadata": {},
   "source": [
    "Let us have a look at the most important features using Gini importance score."
   ]
  },
  {
   "cell_type": "code",
   "execution_count": 73,
   "metadata": {},
   "outputs": [
    {
     "name": "stdout",
     "output_type": "stream",
     "text": [
      "Top 5 lncRNAs in terms of predictive power:\n",
      "LINC00954, HLA-F-AS1, LINC01089, CABIN1, LINC00884, LINC01093, ADIRF-AS1, PP7080, CYB561D2, LINC00266-1\n"
     ]
    }
   ],
   "source": [
    "gini_important_features = data_df.columns[np.argsort(dec_tree.feature_importances_)[-10:]]\n",
    "print('Top 5 lncRNAs in terms of predictive power:')\n",
    "print(f'{\", \".join(gini_important_features)}')"
   ]
  },
  {
   "cell_type": "markdown",
   "metadata": {},
   "source": [
    "### Gradient boosting (XGBoost)\n",
    "\n",
    "XGBoost could be also tuned for multi-class problem using `objective=multi:softmax` parameter."
   ]
  },
  {
   "cell_type": "code",
   "execution_count": 76,
   "metadata": {},
   "outputs": [
    {
     "name": "stdout",
     "output_type": "stream",
     "text": [
      "[08:34:45] WARNING: ../src/learner.cc:1115: Starting in XGBoost 1.3.0, the default evaluation metric used with the objective 'multi:softprob' was changed from 'merror' to 'mlogloss'. Explicitly set eval_metric if you'd like to restore the old behavior.\n",
      "GRADIENT BOOSTING\n",
      "Train:\n",
      "              precision    recall  f1-score   support\n",
      "\n",
      "           C       1.00      1.00      1.00       459\n",
      "          H0       1.00      1.00      1.00       467\n",
      "         H24       1.00      1.00      1.00       450\n",
      "         H48       1.00      1.00      1.00       460\n",
      "      PS_H24       1.00      1.00      1.00       463\n",
      "\n",
      "    accuracy                           1.00      2299\n",
      "   macro avg       1.00      1.00      1.00      2299\n",
      "weighted avg       1.00      1.00      1.00      2299\n",
      "\n",
      "\n",
      "Test:\n",
      "              precision    recall  f1-score   support\n",
      "\n",
      "           C       1.00      1.00      1.00        52\n",
      "          H0       0.95      0.95      0.95        44\n",
      "         H24       1.00      1.00      1.00        61\n",
      "         H48       0.96      0.96      0.96        51\n",
      "      PS_H24       1.00      1.00      1.00        48\n",
      "\n",
      "    accuracy                           0.98       256\n",
      "   macro avg       0.98      0.98      0.98       256\n",
      "weighted avg       0.98      0.98      0.98       256\n",
      "\n"
     ]
    }
   ],
   "source": [
    "# Training xgboost model\n",
    "xgb_model = xgb.XGBClassifier(objective=\"multi:softmax\", random_state=_SEED)\n",
    "xgb_model.fit(X_train, y_train)\n",
    "\n",
    "# Computing predictions and evaluating the model\n",
    "y_train_pred = xgb_model.predict(X_train)\n",
    "y_test_pred = xgb_model.predict(X_test)\n",
    "\n",
    "accuracy_metrics['XGBoost'] = accuracy_score(y_test, y_test_pred)\n",
    "f1_score_metrics['XGBoost'] = f1_score(y_test, y_test_pred, average='macro')\n",
    "\n",
    "print('GRADIENT BOOSTING')\n",
    "print('Train:')\n",
    "print(classification_report(y_train, y_train_pred))\n",
    "print('\\nTest:')\n",
    "print(classification_report(y_test, y_test_pred))"
   ]
  },
  {
   "cell_type": "markdown",
   "metadata": {},
   "source": [
    "Getting out the same way feature importances.."
   ]
  },
  {
   "cell_type": "code",
   "execution_count": 77,
   "metadata": {},
   "outputs": [
    {
     "name": "stdout",
     "output_type": "stream",
     "text": [
      "Top 5 lncRNAs in terms of predictive power:\n",
      "CHRM3-AS2, MAPT-AS1, LINC01013, LEF1-AS1, XIST, GRTP1-AS1, LINC00623, LINC00954, LINC00528, WDFY3-AS2\n"
     ]
    }
   ],
   "source": [
    "xgboost_important_features = data_df.columns[np.argsort(xgb_model.feature_importances_)[-10:]]\n",
    "print('Top 5 lncRNAs in terms of predictive power:')\n",
    "print(f'{\", \".join(xgboost_important_features)}')"
   ]
  },
  {
   "cell_type": "markdown",
   "metadata": {},
   "source": [
    "### Random Forest\n",
    "\n",
    "Random forest is also inherently multiclass.."
   ]
  },
  {
   "cell_type": "code",
   "execution_count": 78,
   "metadata": {},
   "outputs": [
    {
     "name": "stdout",
     "output_type": "stream",
     "text": [
      "LOGISTIC REGRESSION\n",
      "Train:\n",
      "              precision    recall  f1-score   support\n",
      "\n",
      "           C       1.00      1.00      1.00       459\n",
      "          H0       1.00      1.00      1.00       467\n",
      "         H24       1.00      1.00      1.00       450\n",
      "         H48       1.00      1.00      1.00       460\n",
      "      PS_H24       1.00      1.00      1.00       463\n",
      "\n",
      "    accuracy                           1.00      2299\n",
      "   macro avg       1.00      1.00      1.00      2299\n",
      "weighted avg       1.00      1.00      1.00      2299\n",
      "\n",
      "\n",
      "Test:\n",
      "              precision    recall  f1-score   support\n",
      "\n",
      "           C       0.96      1.00      0.98        52\n",
      "          H0       0.91      0.95      0.93        44\n",
      "         H24       0.94      1.00      0.97        61\n",
      "         H48       1.00      0.84      0.91        51\n",
      "      PS_H24       1.00      1.00      1.00        48\n",
      "\n",
      "    accuracy                           0.96       256\n",
      "   macro avg       0.96      0.96      0.96       256\n",
      "weighted avg       0.96      0.96      0.96       256\n",
      "\n"
     ]
    }
   ],
   "source": [
    "# Training decision trees\n",
    "rf = RandomForestClassifier(random_state=_SEED).fit(X_train, y_train)\n",
    "\n",
    "# Computing predictions and evaluating the model\n",
    "y_train_pred = rf.predict(X_train)\n",
    "y_test_pred = rf.predict(X_test)\n",
    "\n",
    "accuracy_metrics['Random Forest'] = accuracy_score(y_test, y_test_pred)\n",
    "f1_score_metrics['Random Forest'] = f1_score(y_test, y_test_pred, average='macro')\n",
    "\n",
    "print('LOGISTIC REGRESSION')\n",
    "print('Train:')\n",
    "print(classification_report(y_train, y_train_pred))\n",
    "print('\\nTest:')\n",
    "print(classification_report(y_test, y_test_pred))"
   ]
  },
  {
   "cell_type": "markdown",
   "metadata": {},
   "source": [
    "Let us again have a look at the most important features using Gini importance score."
   ]
  },
  {
   "cell_type": "code",
   "execution_count": 79,
   "metadata": {},
   "outputs": [
    {
     "name": "stdout",
     "output_type": "stream",
     "text": [
      "Top 5 lncRNAs in terms of predictive power:\n",
      "PP7080, LINC00884, RARA-AS1, LINC01013, WDFY3-AS2, LINC00266-1, DHRS4-AS1, LEF1-AS1, PHF1, LINC00528\n"
     ]
    }
   ],
   "source": [
    "gini_important_features = data_df.columns[np.argsort(rf.feature_importances_)[-10:]]\n",
    "print('Top 5 lncRNAs in terms of predictive power:')\n",
    "print(f'{\", \".join(gini_important_features)}')"
   ]
  },
  {
   "cell_type": "markdown",
   "metadata": {},
   "source": [
    "## Plotting accuracy metrics for each model"
   ]
  },
  {
   "cell_type": "code",
   "execution_count": 81,
   "metadata": {},
   "outputs": [
    {
     "data": {
      "image/png": "[encoded data removed]",
      "text/plain": [
       "<Figure size 1080x504 with 1 Axes>"
      ]
     },
     "metadata": {
      "needs_background": "light"
     },
     "output_type": "display_data"
    }
   ],
   "source": [
    "# Creating a bar plot with the accuracy metrics for each model\n",
    "f, ax = plt.subplots(figsize=(15, 7))\n",
    "ax.bar(range(len(accuracy_metrics)), accuracy_metrics.values(), color=['black', 'red', 'green', 'blue', 'cyan'])\n",
    "\n",
    "# Changing the x ticks to model names\n",
    "ax.set_xticks(range(len(accuracy_metrics)))\n",
    "ax.set_xticklabels(accuracy_metrics.keys(), rotation=65)\n",
    "\n",
    "# Adding the title\n",
    "ax.set_title('Accuracy metrics for all ML models')\n",
    "\n",
    "# Change y values range\n",
    "ax.set_ylim([0.8, 1]);"
   ]
  },
  {
   "cell_type": "code",
   "execution_count": 83,
   "metadata": {},
   "outputs": [
    {
     "data": {
      "image/png": "[encoded data removed]",
      "text/plain": [
       "<Figure size 1080x504 with 1 Axes>"
      ]
     },
     "metadata": {
      "needs_background": "light"
     },
     "output_type": "display_data"
    }
   ],
   "source": [
    "# Creating a bar plot with the f1-score metrics for each model\n",
    "f, ax = plt.subplots(figsize=(15, 7))\n",
    "ax.bar(range(len(f1_score_metrics)), f1_score_metrics.values(), color=['black', 'red', 'green', 'blue', 'cyan'])\n",
    "\n",
    "# Changing the x ticks to model names\n",
    "ax.set_xticks(range(len(f1_score_metrics)))\n",
    "ax.set_xticklabels(f1_score_metrics.keys(), rotation=65)\n",
    "\n",
    "# Adding the title\n",
    "ax.set_title('F1-score metrics for all ML models')\n",
    "\n",
    "# Change y values range\n",
    "ax.set_ylim([0.8, 1]);"
   ]
  },
  {
   "cell_type": "markdown",
   "metadata": {},
   "source": [
    "## Feature reduction\n",
    "### Using mutual information between features and target\n",
    "Now we will try to do some feature reduction to decrease the size of feature space. We will try the technique that is described [here](https://scikit-learn.org/stable/modules/feature_selection.html).\n",
    "\n",
    "We will use the **mutual information** to select top features which have highest predictive power with the target. Alternatively, we could have used **ANOVA test** as described in the tutorial, to do that switch from `mutual_info_classif` to `f_classif`."
   ]
  },
  {
   "cell_type": "code",
   "execution_count": 84,
   "metadata": {},
   "outputs": [
    {
     "name": "stdout",
     "output_type": "stream",
     "text": [
      "The top 10 features according to \"mutual_info_classif\" score:\n"
     ]
    },
    {
     "data": {
      "text/plain": [
       "LEF1-AS1       0.695053\n",
       "LINC00266-1    0.665937\n",
       "LINC00623      0.652616\n",
       "RARA-AS1       0.648669\n",
       "PHF1           0.643962\n",
       "XIST           0.636489\n",
       "LINC00528      0.621778\n",
       "PRKCQ-AS1      0.619011\n",
       "TP53TG1        0.607467\n",
       "LINC00926      0.593084\n",
       "dtype: float64"
      ]
     },
     "metadata": {},
     "output_type": "display_data"
    }
   ],
   "source": [
    "# Defining the function to optimize and number of features to keep\n",
    "_N_KEEP = 100\n",
    "_TOP_N = 10\n",
    "_FEATURE_FUNC_METRICS = mutual_info_classif  # f_classif\n",
    "\n",
    "# Fitting the selection module\n",
    "select_top = SelectKBest(_FEATURE_FUNC_METRICS, k=_N_KEEP)\n",
    "select_top.fit(X_train, y_train)\n",
    "\n",
    "# Selecting only top _N_KEEP features\n",
    "X_train_new = select_top.transform(X_train)\n",
    "X_test_new = select_top.transform(X_test)\n",
    "\n",
    "# Printing the top _TOP_N features and its corresponding scores\n",
    "feature_scores = pd.Series(select_top.scores_, index=data_df.columns).sort_values(ascending=False)\n",
    "print(f'The top {_TOP_N} features according to \"{_FEATURE_FUNC_METRICS.__name__}\" score:')\n",
    "display(feature_scores.head(_TOP_N))"
   ]
  },
  {
   "cell_type": "markdown",
   "metadata": {},
   "source": [
    "Now let us retrain the models and visualize the performance."
   ]
  },
  {
   "cell_type": "code",
   "execution_count": 86,
   "metadata": {},
   "outputs": [
    {
     "name": "stdout",
     "output_type": "stream",
     "text": [
      "[08:38:54] WARNING: ../src/learner.cc:1115: Starting in XGBoost 1.3.0, the default evaluation metric used with the objective 'multi:softprob' was changed from 'merror' to 'mlogloss'. Explicitly set eval_metric if you'd like to restore the old behavior.\n"
     ]
    }
   ],
   "source": [
    "verbose = False\n",
    "_MODELS = [\n",
    "    (LogisticRegression(random_state=_SEED, multi_class='multinomial'), 'Logistic Regression'), \n",
    "    (DecisionTreeClassifier(random_state=_SEED), 'Decision Tree'), \n",
    "    (SVC(random_state=_SEED), 'SVM, RBF'),\n",
    "    (xgb.XGBClassifier(objective=\"multi:softmax\", random_state=_SEED), 'XGBoost'),\n",
    "    (RandomForestClassifier(random_state=_SEED), 'Random Forest')\n",
    "]\n",
    "\n",
    "accuracy_metrics, f1_score_metrics = {}, {}\n",
    "\n",
    "for model, model_name in _MODELS:\n",
    "    \n",
    "    # Training the model\n",
    "    fit_model = model.fit(X_train_new, y_train)\n",
    "    \n",
    "    # Computing predictions and evaluating the model\n",
    "    y_train_pred = fit_model.predict(X_train_new)\n",
    "    y_test_pred = fit_model.predict(X_test_new)\n",
    "\n",
    "    accuracy_metrics[model_name] = accuracy_score(y_test, y_test_pred)\n",
    "    f1_score_metrics[model_name] = f1_score(y_test, y_test_pred, average='macro')\n",
    "    \n",
    "    # Printing logs\n",
    "    if verbose:\n",
    "        print(f'Fitted {model_name} model, classification reports')\n",
    "        print('Train:')\n",
    "        print(classification_report(y_train, y_train_pred))\n",
    "        print('\\nTest:')\n",
    "        print(classification_report(y_test, y_test_pred))"
   ]
  },
  {
   "cell_type": "code",
   "execution_count": 88,
   "metadata": {},
   "outputs": [
    {
     "data": {
      "image/png": "[encoded data removed]",
      "text/plain": [
       "<Figure size 1080x504 with 1 Axes>"
      ]
     },
     "metadata": {
      "needs_background": "light"
     },
     "output_type": "display_data"
    }
   ],
   "source": [
    "# Creating a bar plot with the f1-score metrics for each model\n",
    "f, ax = plt.subplots(figsize=(15, 7))\n",
    "ax.bar(range(len(f1_score_metrics)), f1_score_metrics.values(), color=['black', 'red', 'green', 'blue', 'cyan'])\n",
    "\n",
    "# Changing the x ticks to model names\n",
    "ax.set_xticks(range(len(f1_score_metrics)))\n",
    "ax.set_xticklabels(f1_score_metrics.keys(), rotation=65)\n",
    "\n",
    "# Adding the title\n",
    "ax.set_title(f'F1-score metrics for all ML models, top {_N_KEEP} features are selected..')\n",
    "\n",
    "# Change y values range\n",
    "ax.set_ylim([0.8, 1]);"
   ]
  },
  {
   "cell_type": "markdown",
   "metadata": {},
   "source": [
    "### Using PCA to reduce dimensionality\n",
    "Now we will try to run PCA algorithm on the input feature space and reduce its dimensionality to predefined size."
   ]
  },
  {
   "cell_type": "code",
   "execution_count": 89,
   "metadata": {},
   "outputs": [
    {
     "name": "stdout",
     "output_type": "stream",
     "text": [
      "For PC1 (score=26.39%)\n",
      "Top positive:\n",
      "PART1, ZNF503-AS2, FLJ40288, LINC00226, LINC01016\n",
      "Top negative:\n",
      "LINC00621, TAPT1-AS1, THAP9-AS1, NNT-AS1, EPB41L4A-AS1\n",
      "\n",
      "For PC2 (score=12.05%)\n",
      "Top positive:\n",
      "DLEU2, LINC00266-1, MIR646HG, SDCBP2-AS1, ITPK1-AS1\n",
      "Top negative:\n",
      "FENDRR, LINC01013, BOLA3-AS1, LINC01089, FOXD3-AS1\n",
      "\n",
      "For PC3 (score=5.72%)\n",
      "Top positive:\n",
      "MDS2, LINC00663, HCG18, PCED1B-AS1, PRKCQ-AS1\n",
      "Top negative:\n",
      "LPP-AS2, LINC01270, APTR, RARA-AS1, WDFY3-AS2\n",
      "\n",
      "For PC4 (score=4.28%)\n",
      "Top positive:\n",
      "RAB11B-AS1, SPAG5-AS1, WWTR1-AS1, SNAI3-AS1, CAPN15\n",
      "Top negative:\n",
      "NEGR1-IT1, COLCA1, SLC2A1-AS1, DHRS4-AS1, LINC00629\n",
      "\n",
      "For PC5 (score=3.35%)\n",
      "Top positive:\n",
      "TTC28-AS1, LINC00408, LINC00622, HCG27, LINC01192\n",
      "Top negative:\n",
      "BGLT3, SND1-IT1, GHRLOS, RRN3P2, PCED1B-AS1\n",
      "\n"
     ]
    },
    {
     "data": {
      "image/png": "[encoded data removed]",
      "text/plain": [
       "<Figure size 1080x504 with 1 Axes>"
      ]
     },
     "metadata": {
      "needs_background": "light"
     },
     "output_type": "display_data"
    }
   ],
   "source": [
    "# Defining number of features to keep for downstream model fitting\n",
    "_N_KEEP = 100\n",
    "_TOP_N = 5\n",
    "\n",
    "# Fitting PCA\n",
    "pca = PCA(n_components=_N_KEEP)\n",
    "pca.fit(X_train)\n",
    "\n",
    "# Transforming the data\n",
    "X_train_new = pca.transform(X_train)\n",
    "X_test_new = pca.transform(X_test)\n",
    "\n",
    "# Plotting the explained variance by using top PCs\n",
    "f, ax = plt.subplots(figsize=(15, 7))\n",
    "ax.plot(np.cumsum(pca.explained_variance_ratio_))\n",
    "ax.set_xlabel('Number of components')\n",
    "ax.set_ylabel('Total explained variance')\n",
    "ax.set_title('PC explained variance')\n",
    "\n",
    "# Showing the contribution of each feature to the PCs\n",
    "pc_components = pd.DataFrame(pca.components_, columns=data_df.columns, index = ['PC{}'.format(i) for i in range(1, len(pca.components_) + 1)])\n",
    "for ((index, pc_component), explained_variance_ratio) in zip(pc_components.iterrows(), pca.explained_variance_ratio_):\n",
    "    if index == f'PC{_TOP_N + 1}':\n",
    "        break\n",
    "    row_sorted = pc_component.sort_values(ascending=False)\n",
    "    print(f'For {index} (score={explained_variance_ratio*100:.2f}%)\\n'\n",
    "          f\"Top positive:\\n{', '.join(row_sorted[:_TOP_N].index)}\\n\"\n",
    "          f\"Top negative:\\n{', '.join(row_sorted[-_TOP_N:].index)}\\n\")"
   ]
  },
  {
   "cell_type": "markdown",
   "metadata": {},
   "source": [
    "Firstly, we can see that first 100 principal components explain more than 80 % of the variance in the data (look at the graph above) and, thus, it is a good number of PCs to keep. Secondly, by looking at top PCs (according to scores in `pc.components_`) we can see the contribution of each individual feature to the resulting PCs.\n",
    "\n",
    "Now we are ready again to train the models and evaluate their performance."
   ]
  },
  {
   "cell_type": "code",
   "execution_count": 93,
   "metadata": {},
   "outputs": [
    {
     "name": "stdout",
     "output_type": "stream",
     "text": [
      "[08:40:07] WARNING: ../src/learner.cc:1115: Starting in XGBoost 1.3.0, the default evaluation metric used with the objective 'multi:softprob' was changed from 'merror' to 'mlogloss'. Explicitly set eval_metric if you'd like to restore the old behavior.\n"
     ]
    }
   ],
   "source": [
    "verbose = False\n",
    "_MODELS = [\n",
    "    (LogisticRegression(random_state=_SEED, multi_class='multinomial'), 'Logistic Regression'), \n",
    "    (DecisionTreeClassifier(random_state=_SEED), 'Decision Tree'), \n",
    "    (SVC(random_state=_SEED), 'SVM, RBF'),\n",
    "    (xgb.XGBClassifier(objective=\"multi:softmax\", random_state=_SEED), 'XGBoost'),\n",
    "    (RandomForestClassifier(random_state=_SEED), 'Random Forest')\n",
    "]\n",
    "\n",
    "accuracy_metrics, f1_score_metrics = {}, {}\n",
    "\n",
    "for model, model_name in _MODELS:\n",
    "    \n",
    "    # Training the model\n",
    "    fit_model = model.fit(X_train_new, y_train)\n",
    "    \n",
    "    # Computing predictions and evaluating the model\n",
    "    y_train_pred = fit_model.predict(X_train_new)\n",
    "    y_test_pred = fit_model.predict(X_test_new)\n",
    "\n",
    "    accuracy_metrics[model_name] = accuracy_score(y_test, y_test_pred)\n",
    "    f1_score_metrics[model_name] = f1_score(y_test, y_test_pred, average='macro')\n",
    "    \n",
    "    # Printing logs\n",
    "    if verbose:\n",
    "        print(f'Fitted {model_name} model, classification reports')\n",
    "        print('Train:')\n",
    "        print(classification_report(y_train, y_train_pred))\n",
    "        print('\\nTest:')\n",
    "        print(classification_report(y_test, y_test_pred))"
   ]
  },
  {
   "cell_type": "code",
   "execution_count": 94,
   "metadata": {},
   "outputs": [
    {
     "data": {
      "image/png": "[encoded data removed]",
      "text/plain": [
       "<Figure size 1080x504 with 1 Axes>"
      ]
     },
     "metadata": {
      "needs_background": "light"
     },
     "output_type": "display_data"
    }
   ],
   "source": [
    "# Creating a bar plot with the f1-score metrics for each model\n",
    "f, ax = plt.subplots(figsize=(15, 7))\n",
    "ax.bar(range(len(f1_score_metrics)), f1_score_metrics.values(), color=['black', 'red', 'green', 'blue', 'cyan'])\n",
    "\n",
    "# Changing the x ticks to model names\n",
    "ax.set_xticks(range(len(f1_score_metrics)))\n",
    "ax.set_xticklabels(f1_score_metrics.keys(), rotation=65)\n",
    "\n",
    "# Adding the title\n",
    "ax.set_title(f'F1-score metrics for all ML models, top {_N_KEEP} PCs are kept..')\n",
    "\n",
    "# Change y values range\n",
    "ax.set_ylim([0.8, 1]);"
   ]
  },
  {
   "cell_type": "markdown",
   "metadata": {},
   "source": [
    "We can see that the second method using PCA is a little bit **worse** than the first one. "
   ]
  },
  {
   "cell_type": "markdown",
   "metadata": {},
   "source": [
    "### Enrichment analysis\n",
    "\n",
    "Now we will run the enrichment analysis to link the genes that we found to be important in distinguishing sepsis/non-sepsis patients with the cellular processes/molecular functions. To do that, we will use the [ORA algorithm](https://metacpan.org/dist/GO-TermFinder) published by [Boyle et al. 2004](https://doi.org/10.1093/bioinformatics/bth456) and [GSEA algorithm](https://www.gsea-msigdb.org/gsea/index.jsp) published by [Subramanian et al. 2005](https://www.pnas.org/doi/10.1073/pnas.0506580102). To streamline the identificaion of key processes (based on passes genes) we will use the [clusterProfiler](https://bioconductor.org/packages/release/bioc/html/clusterProfiler.html) package which is \"\"*A universal enrichment tool for interpreting omics data*\"\". Look for user guide vignette for `clusterProfiler` [here](https://yulab-smu.top/biomedical-knowledge-mining-book/index.html). To read more about the algorithms please look [here](https://yulab-smu.top/biomedical-knowledge-mining-book/enrichment-overview.html), and [here](https://hbctraining.github.io/DGE_workshop_salmon_online/lessons/10_FA_over-representation_analysis.html)\n",
    "\n",
    "To run ORA and GSEA or other types of enrichment algorithms, we need R. For convenience, we will use the package [rpy2](https://rpy2.github.io) which a bridge between python and R. A special advantage of rpy2 is that it allows to run R code in jupyter notebook with python kernel. For example, you just need to add `%%R` at the top of a cell - then rpy2 will interpret this cell as R cell, and run R code inside.\n",
    "\n",
    "Ok, now let us load all the packages needed for enrichment analysis."
   ]
  },
  {
   "cell_type": "code",
   "execution_count": 95,
   "metadata": {},
   "outputs": [],
   "source": [
    "%%R\n",
    "\n",
    "# Quietly loading the packages\n",
    "suppressPackageStartupMessages({\n",
    "    library(clusterProfiler)\n",
    "    library(AnnotationHub)\n",
    "    library(org.Hs.eg.db)\n",
    "})"
   ]
  },
  {
   "cell_type": "code",
   "execution_count": 99,
   "metadata": {},
   "outputs": [
    {
     "name": "stdout",
     "output_type": "stream",
     "text": [
      "LOGISTIC REGRESSION\n",
      "Train:\n",
      "              precision    recall  f1-score   support\n",
      "\n",
      "           C       0.99      1.00      1.00       459\n",
      "          H0       0.90      0.83      0.86       467\n",
      "         H24       0.88      0.97      0.92       450\n",
      "         H48       0.86      0.83      0.84       460\n",
      "      PS_H24       1.00      1.00      1.00       463\n",
      "\n",
      "    accuracy                           0.93      2299\n",
      "   macro avg       0.93      0.93      0.92      2299\n",
      "weighted avg       0.93      0.93      0.92      2299\n",
      "\n",
      "\n",
      "Test:\n",
      "              precision    recall  f1-score   support\n",
      "\n",
      "           C       0.96      1.00      0.98        52\n",
      "          H0       0.88      0.80      0.83        44\n",
      "         H24       0.87      1.00      0.93        61\n",
      "         H48       0.89      0.76      0.82        51\n",
      "      PS_H24       1.00      1.00      1.00        48\n",
      "\n",
      "    accuracy                           0.92       256\n",
      "   macro avg       0.92      0.91      0.91       256\n",
      "weighted avg       0.92      0.92      0.92       256\n",
      "\n",
      "Ranked list of genes:\n"
     ]
    },
    {
     "data": {
      "text/plain": [
       "COLCA1       1.718427\n",
       "CABIN1       1.656733\n",
       "GLIDR        1.020424\n",
       "MDS2         0.929887\n",
       "PHF1         0.879817\n",
       "               ...   \n",
       "LINC01352   -0.874664\n",
       "LINC00324   -0.921525\n",
       "TTN-AS1     -1.123624\n",
       "LINC01186   -1.166040\n",
       "RAMP2-AS1   -1.187715\n",
       "Length: 100, dtype: float64"
      ]
     },
     "execution_count": 99,
     "metadata": {},
     "output_type": "execute_result"
    }
   ],
   "source": [
    "# Defining the function to optimize and number of features to keep\n",
    "_N_KEEP = 100\n",
    "_FEATURE_FUNC_METRICS = mutual_info_classif  # f_classif\n",
    "\n",
    "# Fitting the selection module\n",
    "select_top = SelectKBest(_FEATURE_FUNC_METRICS, k=_N_KEEP)\n",
    "select_top.fit(X_train, y_train)\n",
    "\n",
    "# Selecting only top _N_KEEP features\n",
    "X_train_new = select_top.transform(X_train)\n",
    "X_test_new = select_top.transform(X_test)\n",
    "data_df_new = data_df.iloc[:, select_top.get_support(indices=True)]\n",
    "\n",
    "# Training logistic regression\n",
    "log_reg = LogisticRegression(random_state=_SEED, multi_class='multinomial').fit(X_train_new, y_train)\n",
    "\n",
    "# Computing predictions and evaluating the model\n",
    "y_train_pred = log_reg.predict(X_train_new)\n",
    "y_test_pred = log_reg.predict(X_test_new)\n",
    "\n",
    "print('LOGISTIC REGRESSION')\n",
    "print('Train:')\n",
    "print(classification_report(y_train, y_train_pred))\n",
    "print('\\nTest:')\n",
    "print(classification_report(y_test, y_test_pred))\n",
    "\n",
    "ranked_genes = pd.Series(log_reg.coef_[0], index=data_df_new.columns).sort_values(ascending=False)\n",
    "\n",
    "print('Ranked list of genes:')\n",
    "ranked_genes"
   ]
  },
  {
   "cell_type": "markdown",
   "metadata": {},
   "source": [
    "Now let us prepare everything for the enrichment analysis. First you need a database that links gene symbols/gene IDs with the molecular processes/functions. The `AnnotationHub` package stores all this information and allows users to easily use genomic databases based on your needs. We are interested only in the human annotation, so we will load a separate package called `org.Hs.eg.db` which focuses only on Homo Sapiens.\n",
    "\n",
    "We will follow the tutorial provided [here](https://yulab-smu.top/biomedical-knowledge-mining-book/clusterprofiler-go.html). Here we will load the GO annotations from the internet and then use them in our GSE analysis. [Gene ontology (GO)](http://geneontology.org) is the consortium that stores and maintains functional gene annotations for a wide range of species. GO has 3 types of categories:\n",
    "\n",
    "* Molecular Function or MF - molecular activities of gene products (e.g.  “ligand”, “GTPase”, and “transporter”)\n",
    "* Cellular Component or CC - locations of gene products (e.g. “nucleus”, “lysosome”, or “plasma membrane”)\n",
    "* Biological Process or BP - pathways and larger processes made up of the activities of multiple gene products (e.g. “transcription”, “signal transduction”, or “apoptosis”)\n",
    "\n",
    "First, we need to transfer ranked list of genes from python namespace to R namespace, to do that we will use [ipython magic](https://rpy2.github.io/doc/latest/html/interactive.html)."
   ]
  },
  {
   "cell_type": "code",
   "execution_count": 100,
   "metadata": {},
   "outputs": [
    {
     "name": "stdout",
     "output_type": "stream",
     "text": [
      "   COLCA1    CABIN1     GLIDR      MDS2      PHF1  HOXB-AS1 \n",
      "1.7184273 1.6567335 1.0204242 0.9298873 0.8798171 0.8591971 \n"
     ]
    }
   ],
   "source": [
    "%%R -i ranked_genes\n",
    "\n",
    "# Taking a look at R variable `ranked_genes`\n",
    "head(ranked_genes)"
   ]
  },
  {
   "cell_type": "markdown",
   "metadata": {},
   "source": [
    "As you can see the rpy2 transferred python `ranked_genes` to R `ranked_genes`. The next step will be to obtain ENTREZ ID signatures for each gene name which is a requirement for `clusterProfiler`. To do that we will use `bitr` function."
   ]
  },
  {
   "cell_type": "code",
   "execution_count": 101,
   "metadata": {},
   "outputs": [
    {
     "name": "stderr",
     "output_type": "stream",
     "text": [
      "R[write to console]: 'select()' returned 1:1 mapping between keys and columns\n",
      "\n"
     ]
    },
    {
     "name": "stdout",
     "output_type": "stream",
     "text": [
      "The corresponding ENTREZ IDs and ENSEMBL IDs:\n",
      "    SYMBOL  ENTREZID\n",
      "1   COLCA1    399948\n",
      "2   CABIN1     23523\n",
      "3    GLIDR    389741\n",
      "4     MDS2    259283\n",
      "5     PHF1      5252\n",
      "6 HOXB-AS1 100874362\n"
     ]
    }
   ],
   "source": [
    "%%R\n",
    "\n",
    "# Obtaining ENTREZ ID and ENSEMBL ID signatures for the gene symbols\n",
    "gene_anno <- bitr(names(ranked_genes), fromType = \"SYMBOL\",\n",
    "                  toType = c('ENTREZID'),\n",
    "                  OrgDb = org.Hs.eg.db)\n",
    "\n",
    "# Getting a copy of ranked list of genes, where we will stored ENTREZ ID\n",
    "entrez_ranked_genes <- ranked_genes\n",
    "names(entrez_ranked_genes) <- gene_anno$ENTREZID\n",
    "\n",
    "cat('The corresponding ENTREZ IDs and ENSEMBL IDs:\\n')\n",
    "head(gene_anno)"
   ]
  },
  {
   "cell_type": "markdown",
   "metadata": {},
   "source": [
    "### Over-representation analysis (ORA)\n",
    "\n",
    "We will first try ORA algorithm to find enriched molecular functions/cellular processes. We need to provide gene markers for that algorithms (e.g. DE genes). We will use first 10 genes and the head and the tail of the ranked list (max and min coefficient values). Background genes (genes that are considered to be non-significant in group comparison) will be the rest of the genes."
   ]
  },
  {
   "cell_type": "code",
   "execution_count": 102,
   "metadata": {},
   "outputs": [
    {
     "name": "stderr",
     "output_type": "stream",
     "text": [
      "R[write to console]: 'select()' returned 1:1 mapping between keys and columns\n",
      "\n"
     ]
    },
    {
     "data": {
      "text/html": [
       "<div>\n",
       "<style scoped>\n",
       "    .dataframe tbody tr th:only-of-type {\n",
       "        vertical-align: middle;\n",
       "    }\n",
       "\n",
       "    .dataframe tbody tr th {\n",
       "        vertical-align: top;\n",
       "    }\n",
       "\n",
       "    .dataframe thead th {\n",
       "        text-align: right;\n",
       "    }\n",
       "</style>\n",
       "<table border=\"1\" class=\"dataframe\">\n",
       "  <thead>\n",
       "    <tr style=\"text-align: right;\">\n",
       "      <th></th>\n",
       "      <th>SYMBOL</th>\n",
       "      <th>ENTREZID</th>\n",
       "    </tr>\n",
       "  </thead>\n",
       "  <tbody>\n",
       "    <tr>\n",
       "      <th>1</th>\n",
       "      <td>A2M-AS1</td>\n",
       "      <td>144571</td>\n",
       "    </tr>\n",
       "    <tr>\n",
       "      <th>2</th>\n",
       "      <td>ADAMTS9-AS2</td>\n",
       "      <td>100507098</td>\n",
       "    </tr>\n",
       "    <tr>\n",
       "      <th>3</th>\n",
       "      <td>ADD3-AS1</td>\n",
       "      <td>100505933</td>\n",
       "    </tr>\n",
       "    <tr>\n",
       "      <th>4</th>\n",
       "      <td>ADIRF-AS1</td>\n",
       "      <td>100133190</td>\n",
       "    </tr>\n",
       "    <tr>\n",
       "      <th>5</th>\n",
       "      <td>ADORA2A-AS1</td>\n",
       "      <td>646023</td>\n",
       "    </tr>\n",
       "    <tr>\n",
       "      <th>6</th>\n",
       "      <td>AFAP1-AS1</td>\n",
       "      <td>84740</td>\n",
       "    </tr>\n",
       "  </tbody>\n",
       "</table>\n",
       "</div>"
      ],
      "text/plain": [
       "        SYMBOL   ENTREZID\n",
       "1      A2M-AS1     144571\n",
       "2  ADAMTS9-AS2  100507098\n",
       "3     ADD3-AS1  100505933\n",
       "4    ADIRF-AS1  100133190\n",
       "5  ADORA2A-AS1     646023\n",
       "6    AFAP1-AS1      84740"
      ]
     },
     "execution_count": 102,
     "metadata": {},
     "output_type": "execute_result"
    }
   ],
   "source": [
    "### This is a python cell - obtaining list of background genes\n",
    "\n",
    "# Getting all gene names\n",
    "all_genes =  data_df.columns\n",
    "\n",
    "# Transferring all gene names to R namespace\n",
    "%R -i all_genes\n",
    "\n",
    "# Matching gene names with ENTREZ ID\n",
    "%R all_gene_anno <- bitr(all_genes, fromType = \"SYMBOL\", \\\n",
    "                     toType = c('ENTREZID'), \\\n",
    "                     OrgDb = org.Hs.eg.db)\n",
    "\n",
    "# Printing the head of annotation\n",
    "%R head(all_gene_anno)"
   ]
  },
  {
   "cell_type": "code",
   "execution_count": 106,
   "metadata": {},
   "outputs": [
    {
     "name": "stdout",
     "output_type": "stream",
     "text": [
      "                   ID                                            Description\n",
      "GO:0010605 GO:0010605 negative regulation of macromolecule metabolic process\n",
      "GO:0044260 GO:0044260               cellular macromolecule metabolic process\n",
      "GO:1901564 GO:1901564              organonitrogen compound metabolic process\n",
      "GO:0009987 GO:0009987                                       cellular process\n",
      "GO:0009892 GO:0009892               negative regulation of metabolic process\n",
      "GO:0051716 GO:0051716                          cellular response to stimulus\n",
      "           GeneRatio BgRatio     pvalue  p.adjust    qvalue\n",
      "GO:0010605       5/7   10/29 0.03024257 0.1881059 0.1675438\n",
      "GO:0044260       5/7   10/29 0.03024257 0.1881059 0.1675438\n",
      "GO:1901564       5/7   10/29 0.03024257 0.1881059 0.1675438\n",
      "GO:0009987       7/7   20/29 0.04966747 0.1881059 0.1675438\n",
      "GO:0009892       5/7   11/29 0.05082843 0.1881059 0.1675438\n",
      "GO:0051716       5/7   11/29 0.05082843 0.1881059 0.1675438\n",
      "                                                 geneID Count\n",
      "GO:0010605                  CABIN1/PHF1/XIST/PSMB1/DAXX     5\n",
      "GO:0044260             CABIN1/PHF1/PSMB1/DAXX/LINC00324     5\n",
      "GO:1901564             CABIN1/PHF1/PSMB1/DAXX/LINC00324     5\n",
      "GO:0009987 CABIN1/PHF1/MALAT1/XIST/PSMB1/DAXX/LINC00324     7\n",
      "GO:0009892                  CABIN1/PHF1/XIST/PSMB1/DAXX     5\n",
      "GO:0051716                CABIN1/PHF1/MALAT1/PSMB1/DAXX     5\n"
     ]
    }
   ],
   "source": [
    "%%R\n",
    "\n",
    "# Getting the list of significant genes (top-5 in the head + top-5 in the tail)\n",
    "significant_genes <- c(head(names(entrez_ranked_genes), 20), tail(names(entrez_ranked_genes), 20))\n",
    "\n",
    "ego <- enrichGO(gene          = significant_genes,\n",
    "                OrgDb         = org.Hs.eg.db,\n",
    "                universe      = all_gene_anno$ENTREZID,\n",
    "                ont           = \"BP\",  # biological process\n",
    "                pAdjustMethod = \"BH\",\n",
    "                pvalueCutoff  = 1,  # getting everything\n",
    "                qvalueCutoff  = 1,  # getting everything\n",
    "                readable      = TRUE)\n",
    "head(ego)"
   ]
  },
  {
   "cell_type": "markdown",
   "metadata": {},
   "source": [
    "We can see that we obtain results with low significance which may indicate either:\n",
    "\n",
    "* low level of annotation for lncRNAs\n",
    "* enrichment analysis is usually done on all genes, here we pass only lncRNAs"
   ]
  },
  {
   "cell_type": "markdown",
   "metadata": {},
   "source": [
    "#### Gene set enrichment analysis\n",
    "\n",
    "Now we will try to run GSEA on the same dataset."
   ]
  },
  {
   "cell_type": "code",
   "execution_count": 107,
   "metadata": {},
   "outputs": [
    {
     "name": "stderr",
     "output_type": "stream",
     "text": [
      "R[write to console]: no term enriched under specific pvalueCutoff...\n",
      "\n"
     ]
    },
    {
     "name": "stdout",
     "output_type": "stream",
     "text": [
      "#\n",
      "# Gene Set Enrichment Analysis\n",
      "#\n",
      "#...@organism \t Homo sapiens \n",
      "#...@setType \t BP \n",
      "#...@keytype \t ENTREZID \n",
      "#...@geneList \t Named num [1:100] 1.72 1.66 1.02 0.93 0.88 ...\n",
      " - attr(*, \"names\")= chr [1:100] \"399948\" \"23523\" \"389741\" \"259283\" ...\n",
      "#...nPerm \t \n",
      "#...pvalues adjusted by 'BH' with cutoff <1 \n",
      "#...0 enriched terms found\n",
      "'data.frame':\t0 obs. of  8 variables:\n",
      " $ ID             : chr \n",
      " $ Description    : chr \n",
      " $ setSize        : int \n",
      " $ enrichmentScore: num \n",
      " $ NES            : num \n",
      " $ pvalue         : num \n",
      " $ p.adjust       : num \n",
      " $ qvalues        : num \n",
      "#...Citation\n",
      "  Guangchuang Yu, Li-Gen Wang, Yanyan Han and Qing-Yu He.\n",
      "  clusterProfiler: an R package for comparing biological themes among\n",
      "  gene clusters. OMICS: A Journal of Integrative Biology\n",
      "  2012, 16(5):284-287 \n",
      "\n"
     ]
    }
   ],
   "source": [
    "%%R\n",
    "\n",
    "gse <- gseGO(geneList     = entrez_ranked_genes,\n",
    "             OrgDb        = org.Hs.eg.db,\n",
    "             ont          = \"BP\",\n",
    "             minGSSize    = 100,\n",
    "             maxGSSize    = 500,\n",
    "             pvalueCutoff = 1,\n",
    "             verbose      = FALSE)\n",
    "\n",
    "gse"
   ]
  },
  {
   "cell_type": "markdown",
   "metadata": {},
   "source": [
    "We can see that no enrichment terms are found. The reasons could be the same."
   ]
  },
  {
   "cell_type": "markdown",
   "metadata": {},
   "source": [
    "Voilà!"
   ]
  }
 ],
 "metadata": {
  "kernelspec": {
   "display_name": "Python 3",
   "language": "python",
   "name": "python3"
  },
  "language_info": {
   "codemirror_mode": {
    "name": "ipython",
    "version": 3
   },
   "file_extension": ".py",
   "mimetype": "text/x-python",
   "name": "python",
   "nbconvert_exporter": "python",
   "pygments_lexer": "ipython3",
   "version": "3.8.3"
  }
 },
 "nbformat": 4,
 "nbformat_minor": 5
}
